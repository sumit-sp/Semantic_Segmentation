{
  "cells": [
    {
      "cell_type": "code",
      "source": [
        "! pip install transformers"
      ],
      "metadata": {
        "id": "nLenQDROIXa1"
      },
      "execution_count": null,
      "outputs": []
    },
    {
      "cell_type": "code",
      "execution_count": null,
      "metadata": {
        "id": "sBCGkc0HHm5Y"
      },
      "outputs": [],
      "source": [
        "import torch\n",
        "import numpy as np\n",
        "from torchvision import transforms\n",
        "from torch import nn"
      ]
    },
    {
      "cell_type": "code",
      "execution_count": null,
      "metadata": {
        "colab": {
          "base_uri": "https://localhost:8080/",
          "height": 81,
          "referenced_widgets": [
            "4fb79edaf77e4522b53ff6b67c91d5db",
            "0b13ea1924fd43a980f7ea9fe2c473be",
            "9263c9005a7b43228350566248668b44",
            "397497fefa8c42b5bef6f4565bac9e2c",
            "484989b770d24b66a448f5f133eddf71",
            "20a92207ca1748c8891e1e9fbd1ac26d",
            "11986dd616fa44df968264fe13458509",
            "60fd017d2b1046a4ab5fc0c5930a93b0",
            "e668b01774c34f64aeaa320a41264725",
            "423acb0f52a5405ba54060d88f92f8f2",
            "73991b2caf584ab3b0fa3ed7d93b5f37",
            "42464d7b122740a68c8b3e1892a218b7",
            "6594a1cf256e49d6abf4616df088d7dd",
            "8be38f3821ee4cd3b84ba4db865d5636",
            "9934bab8940a492186017812d13e1d55",
            "f3012121c1b84988a34af40dba3f04ed",
            "0cf7eee174254ebfbec58efc0ca2e45c",
            "91809e7325d84bcfb707cf68c1fee4eb",
            "686a16ba42324c4c99f188a78dbaf7ee",
            "19c7a98096884ae58ee0b23677f5bca4",
            "a6abda6b1c614d7497ab62725273df15",
            "52f507d54db54b69b42a04c70b8d4df2"
          ]
        },
        "id": "rMfIWkIhHm5b",
        "outputId": "94fa3d65-0126-4beb-c2ae-39918f5f74c2"
      },
      "outputs": [
        {
          "output_type": "display_data",
          "data": {
            "text/plain": [
              "Downloading (…)lve/main/config.json:   0%|          | 0.00/8.76k [00:00<?, ?B/s]"
            ],
            "application/vnd.jupyter.widget-view+json": {
              "version_major": 2,
              "version_minor": 0,
              "model_id": "4fb79edaf77e4522b53ff6b67c91d5db"
            }
          },
          "metadata": {}
        },
        {
          "output_type": "display_data",
          "data": {
            "text/plain": [
              "Downloading pytorch_model.bin:   0%|          | 0.00/241M [00:00<?, ?B/s]"
            ],
            "application/vnd.jupyter.widget-view+json": {
              "version_major": 2,
              "version_minor": 0,
              "model_id": "42464d7b122740a68c8b3e1892a218b7"
            }
          },
          "metadata": {}
        }
      ],
      "source": [
        "from transformers import ConvNextConfig, UperNetConfig, UperNetForSemanticSegmentation\n",
        "\n",
        "backbone_config = ConvNextConfig(out_features=[\"stage1\", \"stage2\", \"stage3\", \"stage4\"])\n",
        "\n",
        "config = UperNetConfig(backbone_config=backbone_config)\n",
        "\n",
        "segmentation_model = UperNetForSemanticSegmentation.from_pretrained(\"openmmlab/upernet-convnext-tiny\")"
      ]
    },
    {
      "cell_type": "code",
      "execution_count": null,
      "metadata": {
        "id": "yYeZ7ElWHm5d"
      },
      "outputs": [],
      "source": [
        "# Number of output channels equal to number of classes\n",
        "\n",
        "num_classes = 1 # Our task is Binary Classification --> number of channels = 1\n",
        "output_channels = num_classes\n",
        "segmentation_model.decode_head.classifier = nn.Conv2d(512, output_channels, kernel_size=(1, 1), stride=(1, 1))\n",
        "segmentation_model.auxiliary_head.classifier = nn.Conv2d(256, output_channels, kernel_size=(1, 1), stride=(1, 1))"
      ]
    },
    {
      "cell_type": "code",
      "execution_count": null,
      "metadata": {
        "colab": {
          "base_uri": "https://localhost:8080/"
        },
        "id": "sH1oKIv5Hm5d",
        "outputId": "728238ef-b223-4c60-c386-c72f40f3f318"
      },
      "outputs": [
        {
          "output_type": "execute_result",
          "data": {
            "text/plain": [
              "torch.Size([4, 1, 224, 224])"
            ]
          },
          "metadata": {},
          "execution_count": 10
        }
      ],
      "source": [
        "# Verify the model output\n",
        "with torch.no_grad():\n",
        "    seg_output = segmentation_model(torch.zeros(size= (4, 3, 224, 224)))\n",
        "\n",
        "seg_output.logits.shape"
      ]
    },
    {
      "cell_type": "code",
      "execution_count": null,
      "metadata": {
        "id": "0dY_MDdwHm5e"
      },
      "outputs": [],
      "source": [
        "# Freeze the backbone (Feature extractor) parameters during training\n",
        "for name, param in segmentation_model.named_parameters():\n",
        "    if (\"decode_head\" not in name) and (\"auxiliary_head\" not in name):\n",
        "        param.requires_grad = False"
      ]
    },
    {
      "cell_type": "code",
      "execution_count": null,
      "metadata": {
        "id": "_0D56bBrHm5e"
      },
      "outputs": [],
      "source": [
        "import torch.optim as optim\n",
        "from torch.utils.data import DataLoader, Dataset, random_split\n",
        "from torchvision.transforms import ToTensor\n",
        "from torchvision.models import segmentation\n",
        "from torchvision.io import read_image\n",
        "import os\n",
        "from PIL import Image\n",
        "import glob\n",
        "\n",
        "# Set device\n",
        "device = torch.device(\"cuda\" if torch.cuda.is_available() else \"cpu\")\n",
        "\n",
        "class SegDataset(Dataset):\n",
        "    \n",
        "    def __init__(self, parentDir, imageDir, maskDir):\n",
        "        self.imageList = glob.glob(parentDir+'/'+imageDir+'/*')\n",
        "        self.imageList.sort()\n",
        "        self.maskList = glob.glob(parentDir+'/'+maskDir+'/*')\n",
        "        self.maskList.sort()\n",
        "    def __getitem__(self, index):\n",
        "        \n",
        "        preprocess = transforms.Compose([\n",
        "                                    transforms.Resize((256,256), 2),\n",
        "                                    transforms.ToTensor(),\n",
        "                                    transforms.Normalize(mean=[0.485, 0.456, 0.406], std=[0.229, 0.224, 0.225])])\n",
        "        \n",
        "        X = Image.open(self.imageList[index]).convert('RGB')\n",
        "        X = preprocess(X)\n",
        "        \n",
        "        trfresize = transforms.Resize((256, 256), 2)\n",
        "        trftensor = transforms.ToTensor()\n",
        "        \n",
        "        yimg = Image.open(self.maskList[index]).convert('L')\n",
        "        y1 = trftensor(trfresize(yimg))\n",
        "        y1 = y1.type(torch.BoolTensor)\n",
        "        y2 = torch.bitwise_not(y1)\n",
        "        y = torch.cat([y2, y1], dim=0)\n",
        "        \n",
        "        return X, y1.float()\n",
        "            \n",
        "    def __len__(self):\n",
        "        return len(self.imageList)\n",
        "    \n",
        "dataset = SegDataset(parentDir= \"data/data\",imageDir= \"images\", maskDir= \"masks\")\n"
      ]
    },
    {
      "cell_type": "code",
      "source": [
        "train_ratio = 0.7 \n",
        "test_ratio = 0.3  \n",
        "\n",
        "# Calculate the sizes of training and testing sets\n",
        "train_size = int(train_ratio * len(dataset))\n",
        "test_size = len(dataset) - train_size\n",
        "\n",
        "# Randomly split the dataset into training and testing sets\n",
        "train_set, test_set = random_split(dataset, [train_size, test_size])\n",
        "\n",
        "# Create data loaders for training and testing sets\n",
        "dataloader = DataLoader(train_set, batch_size=4, shuffle=True, num_workers=0)\n",
        "test_loader = DataLoader(test_set, batch_size=4, shuffle=False)"
      ],
      "metadata": {
        "id": "4tDV8cAXQhh7"
      },
      "execution_count": null,
      "outputs": []
    },
    {
      "cell_type": "code",
      "execution_count": null,
      "metadata": {
        "colab": {
          "base_uri": "https://localhost:8080/"
        },
        "id": "UbSn8X9SHm5f",
        "outputId": "621f46ef-cc30-472f-a945-b50cc72f368e"
      },
      "outputs": [
        {
          "output_type": "stream",
          "name": "stdout",
          "text": [
            "Epoch 1/119, Loss: 0.2777\n",
            "Epoch 2/119, Loss: 0.1387\n",
            "Epoch 3/119, Loss: 0.1166\n",
            "Epoch 4/119, Loss: 0.1004\n",
            "Epoch 5/119, Loss: 0.0904\n",
            "Epoch 6/119, Loss: 0.0813\n",
            "Epoch 7/119, Loss: 0.0775\n",
            "Epoch 8/119, Loss: 0.0728\n",
            "Epoch 9/119, Loss: 0.0720\n",
            "Epoch 10/119, Loss: 0.0683\n",
            "Epoch 11/119, Loss: 0.0625\n",
            "Epoch 12/119, Loss: 0.0579\n",
            "Epoch 13/119, Loss: 0.0598\n",
            "Epoch 14/119, Loss: 0.0566\n",
            "Epoch 15/119, Loss: 0.0545\n",
            "Epoch 16/119, Loss: 0.0532\n",
            "Epoch 17/119, Loss: 0.0527\n",
            "Epoch 18/119, Loss: 0.0548\n",
            "Epoch 19/119, Loss: 0.0501\n",
            "Epoch 20/119, Loss: 0.0467\n",
            "Epoch 21/119, Loss: 0.0481\n",
            "Epoch 22/119, Loss: 0.0472\n",
            "Epoch 23/119, Loss: 0.0447\n",
            "Epoch 24/119, Loss: 0.0432\n",
            "Epoch 25/119, Loss: 0.0421\n",
            "Epoch 26/119, Loss: 0.0428\n",
            "Epoch 27/119, Loss: 0.0424\n",
            "Epoch 28/119, Loss: 0.0408\n",
            "Epoch 29/119, Loss: 0.0405\n",
            "Epoch 30/119, Loss: 0.0387\n",
            "Epoch 31/119, Loss: 0.0383\n",
            "Epoch 32/119, Loss: 0.0376\n",
            "Epoch 33/119, Loss: 0.0371\n",
            "Epoch 34/119, Loss: 0.0383\n",
            "Epoch 35/119, Loss: 0.0406\n",
            "Epoch 36/119, Loss: 0.0385\n",
            "Epoch 37/119, Loss: 0.0362\n",
            "Epoch 38/119, Loss: 0.0356\n",
            "Epoch 39/119, Loss: 0.0332\n",
            "Epoch 40/119, Loss: 0.0339\n",
            "Epoch 41/119, Loss: 0.0337\n",
            "Epoch 42/119, Loss: 0.0341\n",
            "Epoch 43/119, Loss: 0.0334\n",
            "Epoch 44/119, Loss: 0.0333\n",
            "Epoch 45/119, Loss: 0.0320\n",
            "Epoch 46/119, Loss: 0.0324\n",
            "Epoch 47/119, Loss: 0.0330\n",
            "Epoch 48/119, Loss: 0.0328\n",
            "Epoch 49/119, Loss: 0.0308\n",
            "Epoch 50/119, Loss: 0.0291\n",
            "Epoch 51/119, Loss: 0.0302\n",
            "Epoch 52/119, Loss: 0.0296\n",
            "Epoch 53/119, Loss: 0.0286\n",
            "Epoch 54/119, Loss: 0.0286\n",
            "Epoch 55/119, Loss: 0.0279\n",
            "Epoch 56/119, Loss: 0.0286\n",
            "Epoch 57/119, Loss: 0.0294\n",
            "Epoch 58/119, Loss: 0.0277\n",
            "Epoch 59/119, Loss: 0.0268\n",
            "Epoch 60/119, Loss: 0.0273\n",
            "Epoch 61/119, Loss: 0.0274\n",
            "Epoch 62/119, Loss: 0.0277\n",
            "Epoch 63/119, Loss: 0.0280\n",
            "Epoch 64/119, Loss: 0.0265\n",
            "Epoch 65/119, Loss: 0.0261\n",
            "Epoch 66/119, Loss: 0.0247\n",
            "Epoch 67/119, Loss: 0.0247\n",
            "Epoch 68/119, Loss: 0.0248\n",
            "Epoch 69/119, Loss: 0.0238\n",
            "Epoch 70/119, Loss: 0.0242\n",
            "Epoch 71/119, Loss: 0.0239\n",
            "Epoch 72/119, Loss: 0.0246\n",
            "Epoch 73/119, Loss: 0.0237\n",
            "Epoch 74/119, Loss: 0.0239\n",
            "Epoch 75/119, Loss: 0.0234\n",
            "Epoch 76/119, Loss: 0.0231\n",
            "Epoch 77/119, Loss: 0.0242\n",
            "Epoch 78/119, Loss: 0.0237\n",
            "Epoch 79/119, Loss: 0.0229\n",
            "Epoch 80/119, Loss: 0.0234\n",
            "Epoch 81/119, Loss: 0.0222\n",
            "Epoch 82/119, Loss: 0.0221\n",
            "Epoch 83/119, Loss: 0.0219\n",
            "Epoch 84/119, Loss: 0.0222\n",
            "Epoch 85/119, Loss: 0.0214\n",
            "Epoch 86/119, Loss: 0.0218\n",
            "Epoch 87/119, Loss: 0.0227\n",
            "Epoch 88/119, Loss: 0.0219\n",
            "Epoch 89/119, Loss: 0.0230\n",
            "Epoch 90/119, Loss: 0.0217\n",
            "Epoch 91/119, Loss: 0.0204\n",
            "Epoch 92/119, Loss: 0.0199\n",
            "Epoch 93/119, Loss: 0.0199\n",
            "Epoch 94/119, Loss: 0.0193\n",
            "Epoch 95/119, Loss: 0.0194\n",
            "Epoch 96/119, Loss: 0.0198\n",
            "Epoch 97/119, Loss: 0.0201\n",
            "Epoch 98/119, Loss: 0.0211\n",
            "Epoch 99/119, Loss: 0.0200\n",
            "Epoch 100/119, Loss: 0.0195\n",
            "Epoch 101/119, Loss: 0.0201\n",
            "Epoch 102/119, Loss: 0.0207\n",
            "Epoch 103/119, Loss: 0.0197\n",
            "Epoch 104/119, Loss: 0.0187\n",
            "Epoch 105/119, Loss: 0.0179\n",
            "Epoch 106/119, Loss: 0.0175\n",
            "Epoch 107/119, Loss: 0.0174\n",
            "Epoch 108/119, Loss: 0.0176\n",
            "Epoch 109/119, Loss: 0.0179\n",
            "Epoch 110/119, Loss: 0.0175\n",
            "Epoch 111/119, Loss: 0.0180\n",
            "Epoch 112/119, Loss: 0.0181\n",
            "Epoch 113/119, Loss: 0.0183\n",
            "Epoch 114/119, Loss: 0.0176\n",
            "Epoch 115/119, Loss: 0.0173\n",
            "Epoch 116/119, Loss: 0.0170\n",
            "Epoch 117/119, Loss: 0.0165\n",
            "Epoch 118/119, Loss: 0.0166\n",
            "Epoch 119/119, Loss: 0.0164\n"
          ]
        }
      ],
      "source": [
        "# Define the model\n",
        "model = segmentation_model\n",
        "\n",
        "# Define the loss function\n",
        "criterion = nn.BCEWithLogitsLoss()\n",
        "\n",
        "# Define the optimizer\n",
        "optimizer = optim.Adam(model.parameters(), lr=0.0001)\n",
        "\n",
        "# Move the model to the device\n",
        "model = model.to(device)\n",
        "\n",
        "# Training loop\n",
        "num_epochs = 200\n",
        "\n",
        "for epoch in range(num_epochs):\n",
        "    model.train()\n",
        "    running_loss = 0.0\n",
        "\n",
        "    for images, masks in dataloader:\n",
        "\n",
        "        # Move images and masks to the device\n",
        "        images = images.to(device)\n",
        "        masks = masks.to(device)\n",
        "\n",
        "        # Zero the gradients\n",
        "        optimizer.zero_grad()\n",
        "\n",
        "        # Forward pass\n",
        "        outputs = model(images)['logits']\n",
        "\n",
        "        #print(f\"output shape: {outputs.shape}\")\n",
        "\n",
        "        # Compute the loss\n",
        "        loss = criterion(outputs, masks)\n",
        "\n",
        "        # Backward pass\n",
        "        loss.backward()\n",
        "\n",
        "        # Update the weights\n",
        "        optimizer.step()\n",
        "\n",
        "        # Update the running loss\n",
        "        running_loss += loss.item() * images.size(0)\n",
        "        \n",
        "        #print(loss.item())\n",
        "    # Print the epoch loss\n",
        "    epoch_loss = running_loss / len(dataset)\n",
        "    print(f\"Epoch {epoch+1}/{num_epochs}, Loss: {epoch_loss:.4f}\")\n",
        "\n",
        "    # Create checkpoint after every 20 epochs\n",
        "    if (epoch + 1) % 20 == 0:\n",
        "        checkpoint_name = f\"convNextmodel_18may_epoch_{epoch}.pth\"\n",
        "        \n",
        "        # Save the model parameters\n",
        "        torch.save(model.state_dict(), checkpoint_name)\n",
        "\n",
        "# Save the final trained model\n",
        "torch.save(model.state_dict(), \"convnext_segmentation_model.pth\")"
      ]
    },
    {
      "cell_type": "markdown",
      "source": [
        "### **Load Trained model**"
      ],
      "metadata": {
        "id": "QxLWNPLMJkBj"
      }
    },
    {
      "cell_type": "code",
      "source": [
        "# Use this cell to load previously trained model\n",
        "path = './segmentation_model.pth'\n",
        "\n",
        "model = segmentation_model\n",
        "\n",
        "model.load_state_dict(torch.load(path))"
      ],
      "metadata": {
        "colab": {
          "base_uri": "https://localhost:8080/"
        },
        "id": "HTNFyYQAJuCC",
        "outputId": "5dafdd72-4d26-4a43-985a-de40679ea55b"
      },
      "execution_count": null,
      "outputs": [
        {
          "output_type": "execute_result",
          "data": {
            "text/plain": [
              "<All keys matched successfully>"
            ]
          },
          "metadata": {},
          "execution_count": 11
        }
      ]
    },
    {
      "cell_type": "code",
      "source": [
        "import torch\n",
        "from torch import Tensor\n",
        "\n",
        "\n",
        "def dice_coeff(input: Tensor, target: Tensor, reduce_batch_first: bool = False, epsilon: float = 1e-6):\n",
        "    # Average of Dice coefficient for all batches, or for a single mask\n",
        "    assert input.size() == target.size()\n",
        "    assert input.dim() == 3 or not reduce_batch_first\n",
        "\n",
        "    sum_dim = (-1, -2) if input.dim() == 2 or not reduce_batch_first else (-1, -2, -3)\n",
        "\n",
        "    inter = 2 * (input * target).sum(dim=sum_dim)\n",
        "    sets_sum = input.sum(dim=sum_dim) + target.sum(dim=sum_dim)\n",
        "    sets_sum = torch.where(sets_sum == 0, inter, sets_sum)\n",
        "\n",
        "    dice = (inter + epsilon) / (sets_sum + epsilon)\n",
        "    return dice.mean()\n",
        "\n",
        "\n",
        "def multiclass_dice_coeff(input: Tensor, target: Tensor, reduce_batch_first: bool = False, epsilon: float = 1e-6):\n",
        "    # Average of Dice coefficient for all classes\n",
        "    return dice_coeff(input.flatten(0, 1), target.flatten(0, 1), reduce_batch_first, epsilon)\n",
        "\n",
        "\n",
        "def dice_loss(input: Tensor, target: Tensor, multiclass: bool = False):\n",
        "    # Dice loss (objective to minimize) between 0 and 1\n",
        "    fn = multiclass_dice_coeff if multiclass else dice_coeff\n",
        "    return 1 - fn(input, target, reduce_batch_first=True)"
      ],
      "metadata": {
        "id": "7XUMs_SE-V-Z"
      },
      "execution_count": null,
      "outputs": []
    },
    {
      "cell_type": "code",
      "source": [
        "import torch\n",
        "import torch.nn.functional as F\n",
        "\n",
        "@torch.inference_mode()\n",
        "def evaluate(net, dataloader, device, amp):\n",
        "    net.eval()\n",
        "    num_val_batches = len(dataloader)\n",
        "    dice_score = 0\n",
        "\n",
        "    # iterate over the validation set\n",
        "    with torch.autocast(device.type if device.type != 'mps' else 'cpu', enabled=amp):\n",
        "        for image, mask_true in tqdm(dataloader, total=num_val_batches, desc='Validation round', unit='batch', leave=False):\n",
        "            #image, mask_true = batch['image'], batch['mask']\n",
        "\n",
        "            # move images and labels to correct device and type\n",
        "            # image = image.to(device=device, dtype=torch.float32, memory_format=torch.channels_last)\n",
        "            image = image.to(device=device)\n",
        "\n",
        "            mask_true = mask_true.to(device=device, dtype=torch.float32)\n",
        "\n",
        "            # predict the mask\n",
        "            mask_pred = net(image)['logits']\n",
        "            print(f\"mask predict shape: {mask_pred.shape}\")\n",
        "            print(f\"mask predict: {mask_pred}\")\n",
        "\n",
        "            if net.n_classes == 1:\n",
        "                assert mask_true.min() >= 0 and mask_true.max() <= 1, 'True mask indices should be in [0, 1]'\n",
        "                mask_pred = (F.sigmoid(mask_pred) > 0.5).float()\n",
        "                # compute the Dice score\n",
        "                dice_score += dice_coeff(mask_pred, mask_true, reduce_batch_first=False)\n",
        "            else:\n",
        "                assert mask_true.min() >= 0 and mask_true.max() < net.n_classes, 'True mask indices should be in [0, n_classes['\n",
        "                # convert to one-hot format\n",
        "                mask_true = F.one_hot(mask_true, net.n_classes).permute(0, 3, 1, 2).float()\n",
        "                mask_pred = F.one_hot(mask_pred.argmax(dim=1), net.n_classes).permute(0, 3, 1, 2).float()\n",
        "                # compute the Dice score, ignoring background\n",
        "                dice_score += multiclass_dice_coeff(mask_pred[:, 1:], mask_true[:, 1:], reduce_batch_first=False)\n",
        "\n",
        "    net.train()\n",
        "    return dice_score / max(num_val_batches, 1)"
      ],
      "metadata": {
        "id": "cL9jWHfAeBd2"
      },
      "execution_count": null,
      "outputs": []
    },
    {
      "cell_type": "code",
      "source": [
        "import torch\n",
        "\n",
        "def calculate_iou(predicted_mask, ground_truth_mask):\n",
        "    # Threshold predicted mask to binary values\n",
        "    predicted_mask = (predicted_mask > 0.5).float()\n",
        "\n",
        "    # Calculate intersection and union\n",
        "    intersection = torch.sum(predicted_mask * ground_truth_mask)\n",
        "    union = torch.sum(predicted_mask) + torch.sum(ground_truth_mask) - intersection\n",
        "\n",
        "    # Calculate IoU\n",
        "    iou = intersection / (union + 1e-7)  # Add epsilon to avoid division by zero\n",
        "\n",
        "    return iou"
      ],
      "metadata": {
        "id": "OKMgYyDqL8ZQ"
      },
      "execution_count": null,
      "outputs": []
    },
    {
      "cell_type": "code",
      "source": [
        "# Create an iterator from the DataLoader\n",
        "data_iter = iter(test_loader)\n",
        "\n",
        "# Randomly sample one item\n",
        "sample = next(data_iter)\n",
        "\n",
        "# Access the input data and labels\n",
        "image = sample[0]\n",
        "mask = sample[1]\n",
        "\n",
        "pred = model(image[0].unsqueeze(0))['logits']\n",
        "\n",
        "predicted_mask = torch.sigmoid(pred)\n",
        "ground_truth_mask = mask[0]\n",
        "\n",
        "iou = calculate_iou(predicted_mask, ground_truth_mask)\n",
        "print(\"IoU:\", iou.item())"
      ],
      "metadata": {
        "colab": {
          "base_uri": "https://localhost:8080/"
        },
        "id": "rtlox15MVRgl",
        "outputId": "ed75cbe7-5976-46cf-ed08-b37b861822e0"
      },
      "execution_count": null,
      "outputs": [
        {
          "output_type": "stream",
          "name": "stdout",
          "text": [
            "IoU: 0.8630405068397522\n"
          ]
        }
      ]
    },
    {
      "cell_type": "code",
      "source": [
        "data_iter = iter(test_loader)\n",
        "iou_sum = 0\n",
        "\n",
        "for i in range(len(data_iter)-1):\n",
        "  # Randomly sample one item\n",
        "  sample = next(data_iter)\n",
        "\n",
        "  # Access the input data and labels\n",
        "  image = sample[0]\n",
        "  mask = sample[1]\n",
        "\n",
        "  for j in range(4):\n",
        "    pred = model(image[j].unsqueeze(0))['logits']\n",
        "\n",
        "    predicted_mask = torch.sigmoid(pred)\n",
        "    ground_truth_mask = mask[j]\n",
        "\n",
        "    iou = calculate_iou(predicted_mask, ground_truth_mask)\n",
        "\n",
        "    print(\"IoU:\", iou.item())\n",
        "\n",
        "    iou_sum += iou.item()\n",
        "\n",
        "print(\"Avg_IoU:\", iou.item()/(i*4))"
      ],
      "metadata": {
        "id": "MqFrA4D2WORX"
      },
      "execution_count": null,
      "outputs": []
    },
    {
      "cell_type": "code",
      "source": [
        "print(\"Avg_IoU:\", iou_sum/(i*4))"
      ],
      "metadata": {
        "colab": {
          "base_uri": "https://localhost:8080/"
        },
        "id": "RDhVkbc0WX5O",
        "outputId": "d9d8f336-b598-4eb5-9779-fcc95e7099d9"
      },
      "execution_count": null,
      "outputs": [
        {
          "output_type": "stream",
          "name": "stdout",
          "text": [
            "Avg_IoU: 0.8470133911211823\n"
          ]
        }
      ]
    },
    {
      "cell_type": "code",
      "source": [
        "import matplotlib.pyplot as plt\n",
        "\n",
        "preprocess = transforms.Compose([transforms.Resize((224,224), 2),\n",
        "                                transforms.ToTensor(),\n",
        "                                transforms.Normalize(mean=[0.485, 0.456, 0.406], std=[0.229, 0.224, 0.225])])\n",
        "image = Image.open('./data/data/images/00585.jpg')\n",
        "input  = preprocess((image))\n",
        "\n",
        "input = input.to(device)\n",
        "\n",
        "model.to(device)\n",
        "model.eval()\n",
        "with torch.no_grad():\n",
        "  pred = model(input.unsqueeze(0))\n",
        "\n",
        "pred = (transforms.Resize((np.array(image).shape[:2]), 2)(torch.sigmoid(pred['logits']))).cpu().detach().numpy()\n",
        "print(pred.shape)\n",
        "fig, (axes1, axes2) = plt.subplots(1, 2)\n",
        "axes1.imshow(np.array(image))\n",
        "axes2.imshow(np.array(image))\n",
        "\n",
        "def show_mask(mask, ax, random_color=False):\n",
        "    if random_color:\n",
        "        color = np.concatenate([np.random.random(3), np.array([0.6])], axis=0)\n",
        "    else:\n",
        "        color = np.array([30/255, 144/255, 255/255, 0.6])\n",
        "    h, w = mask.shape[-2:]\n",
        "    mask_image = mask.reshape(h, w, 1) * color.reshape(1, 1, -1)\n",
        "    print(mask_image.shape)\n",
        "    #print(mask_image)\n",
        "    ax.imshow(mask_image)\n",
        "\n",
        "show_mask(pred, axes2)"
      ],
      "metadata": {
        "colab": {
          "base_uri": "https://localhost:8080/",
          "height": 326
        },
        "id": "TyJuf5cRduXc",
        "outputId": "66008e81-2ebe-454b-f8a5-de07a2c58ab0"
      },
      "execution_count": null,
      "outputs": [
        {
          "output_type": "stream",
          "name": "stdout",
          "text": [
            "(1, 1, 256, 256)\n",
            "(256, 256, 4)\n"
          ]
        },
        {
          "output_type": "display_data",
          "data": {
            "text/plain": [
              "<Figure size 640x480 with 2 Axes>"
            ],
            "image/png": "[encoded data removed]"
          },
          "metadata": {}
        }
      ]
    },
    {
      "cell_type": "code",
      "source": [
        "# Try iterating over test data to see type of images, size and other features for those with IoU less than certain threshold. Check same thing with other models as well.\n",
        "# Compare them. It might show how CNN vs ViT based models perform for certain features."
      ],
      "metadata": {
        "id": "b3dLqUSGjGtS"
      },
      "execution_count": null,
      "outputs": []
    }
  ],
  "metadata": {
    "kernelspec": {
      "display_name": "timm",
      "language": "python",
      "name": "python3"
    },
    "language_info": {
      "codemirror_mode": {
        "name": "ipython",
        "version": 3
      },
      "file_extension": ".py",
      "mimetype": "text/x-python",
      "name": "python",
      "nbconvert_exporter": "python",
      "pygments_lexer": "ipython3",
      "version": "3.9.0"
    },
    "orig_nbformat": 4,
    "colab": {
      "provenance": [],
      "gpuType": "T4"
    },
    "gpuClass": "standard",
    "widgets": {
      "application/vnd.jupyter.widget-state+json": {
        "4fb79edaf77e4522b53ff6b67c91d5db": {
          "model_module": "@jupyter-widgets/controls",
          "model_name": "HBoxModel",
          "model_module_version": "1.5.0",
          "state": {
            "_dom_classes": [],
            "_model_module": "@jupyter-widgets/controls",
            "_model_module_version": "1.5.0",
            "_model_name": "HBoxModel",
            "_view_count": null,
            "_view_module": "@jupyter-widgets/controls",
            "_view_module_version": "1.5.0",
            "_view_name": "HBoxView",
            "box_style": "",
            "children": [
              "IPY_MODEL_0b13ea1924fd43a980f7ea9fe2c473be",
              "IPY_MODEL_9263c9005a7b43228350566248668b44",
              "IPY_MODEL_397497fefa8c42b5bef6f4565bac9e2c"
            ],
            "layout": "IPY_MODEL_484989b770d24b66a448f5f133eddf71"
          }
        },
        "0b13ea1924fd43a980f7ea9fe2c473be": {
          "model_module": "@jupyter-widgets/controls",
          "model_name": "HTMLModel",
          "model_module_version": "1.5.0",
          "state": {
            "_dom_classes": [],
            "_model_module": "@jupyter-widgets/controls",
            "_model_module_version": "1.5.0",
            "_model_name": "HTMLModel",
            "_view_count": null,
            "_view_module": "@jupyter-widgets/controls",
            "_view_module_version": "1.5.0",
            "_view_name": "HTMLView",
            "description": "",
            "description_tooltip": null,
            "layout": "IPY_MODEL_20a92207ca1748c8891e1e9fbd1ac26d",
            "placeholder": "​",
            "style": "IPY_MODEL_11986dd616fa44df968264fe13458509",
            "value": "Downloading (…)lve/main/config.json: 100%"
          }
        },
        "9263c9005a7b43228350566248668b44": {
          "model_module": "@jupyter-widgets/controls",
          "model_name": "FloatProgressModel",
          "model_module_version": "1.5.0",
          "state": {
            "_dom_classes": [],
            "_model_module": "@jupyter-widgets/controls",
            "_model_module_version": "1.5.0",
            "_model_name": "FloatProgressModel",
            "_view_count": null,
            "_view_module": "@jupyter-widgets/controls",
            "_view_module_version": "1.5.0",
            "_view_name": "ProgressView",
            "bar_style": "success",
            "description": "",
            "description_tooltip": null,
            "layout": "IPY_MODEL_60fd017d2b1046a4ab5fc0c5930a93b0",
            "max": 8755,
            "min": 0,
            "orientation": "horizontal",
            "style": "IPY_MODEL_e668b01774c34f64aeaa320a41264725",
            "value": 8755
          }
        },
        "397497fefa8c42b5bef6f4565bac9e2c": {
          "model_module": "@jupyter-widgets/controls",
          "model_name": "HTMLModel",
          "model_module_version": "1.5.0",
          "state": {
            "_dom_classes": [],
            "_model_module": "@jupyter-widgets/controls",
            "_model_module_version": "1.5.0",
            "_model_name": "HTMLModel",
            "_view_count": null,
            "_view_module": "@jupyter-widgets/controls",
            "_view_module_version": "1.5.0",
            "_view_name": "HTMLView",
            "description": "",
            "description_tooltip": null,
            "layout": "IPY_MODEL_423acb0f52a5405ba54060d88f92f8f2",
            "placeholder": "​",
            "style": "IPY_MODEL_73991b2caf584ab3b0fa3ed7d93b5f37",
            "value": " 8.76k/8.76k [00:00&lt;00:00, 132kB/s]"
          }
        },
        "484989b770d24b66a448f5f133eddf71": {
          "model_module": "@jupyter-widgets/base",
          "model_name": "LayoutModel",
          "model_module_version": "1.2.0",
          "state": {
            "_model_module": "@jupyter-widgets/base",
            "_model_module_version": "1.2.0",
            "_model_name": "LayoutModel",
            "_view_count": null,
            "_view_module": "@jupyter-widgets/base",
            "_view_module_version": "1.2.0",
            "_view_name": "LayoutView",
            "align_content": null,
            "align_items": null,
            "align_self": null,
            "border": null,
            "bottom": null,
            "display": null,
            "flex": null,
            "flex_flow": null,
            "grid_area": null,
            "grid_auto_columns": null,
            "grid_auto_flow": null,
            "grid_auto_rows": null,
            "grid_column": null,
            "grid_gap": null,
            "grid_row": null,
            "grid_template_areas": null,
            "grid_template_columns": null,
            "grid_template_rows": null,
            "height": null,
            "justify_content": null,
            "justify_items": null,
            "left": null,
            "margin": null,
            "max_height": null,
            "max_width": null,
            "min_height": null,
            "min_width": null,
            "object_fit": null,
            "object_position": null,
            "order": null,
            "overflow": null,
            "overflow_x": null,
            "overflow_y": null,
            "padding": null,
            "right": null,
            "top": null,
            "visibility": null,
            "width": null
          }
        },
        "20a92207ca1748c8891e1e9fbd1ac26d": {
          "model_module": "@jupyter-widgets/base",
          "model_name": "LayoutModel",
          "model_module_version": "1.2.0",
          "state": {
            "_model_module": "@jupyter-widgets/base",
            "_model_module_version": "1.2.0",
            "_model_name": "LayoutModel",
            "_view_count": null,
            "_view_module": "@jupyter-widgets/base",
            "_view_module_version": "1.2.0",
            "_view_name": "LayoutView",
            "align_content": null,
            "align_items": null,
            "align_self": null,
            "border": null,
            "bottom": null,
            "display": null,
            "flex": null,
            "flex_flow": null,
            "grid_area": null,
            "grid_auto_columns": null,
            "grid_auto_flow": null,
            "grid_auto_rows": null,
            "grid_column": null,
            "grid_gap": null,
            "grid_row": null,
            "grid_template_areas": null,
            "grid_template_columns": null,
            "grid_template_rows": null,
            "height": null,
            "justify_content": null,
            "justify_items": null,
            "left": null,
            "margin": null,
            "max_height": null,
            "max_width": null,
            "min_height": null,
            "min_width": null,
            "object_fit": null,
            "object_position": null,
            "order": null,
            "overflow": null,
            "overflow_x": null,
            "overflow_y": null,
            "padding": null,
            "right": null,
            "top": null,
            "visibility": null,
            "width": null
          }
        },
        "11986dd616fa44df968264fe13458509": {
          "model_module": "@jupyter-widgets/controls",
          "model_name": "DescriptionStyleModel",
          "model_module_version": "1.5.0",
          "state": {
            "_model_module": "@jupyter-widgets/controls",
            "_model_module_version": "1.5.0",
            "_model_name": "DescriptionStyleModel",
            "_view_count": null,
            "_view_module": "@jupyter-widgets/base",
            "_view_module_version": "1.2.0",
            "_view_name": "StyleView",
            "description_width": ""
          }
        },
        "60fd017d2b1046a4ab5fc0c5930a93b0": {
          "model_module": "@jupyter-widgets/base",
          "model_name": "LayoutModel",
          "model_module_version": "1.2.0",
          "state": {
            "_model_module": "@jupyter-widgets/base",
            "_model_module_version": "1.2.0",
            "_model_name": "LayoutModel",
            "_view_count": null,
            "_view_module": "@jupyter-widgets/base",
            "_view_module_version": "1.2.0",
            "_view_name": "LayoutView",
            "align_content": null,
            "align_items": null,
            "align_self": null,
            "border": null,
            "bottom": null,
            "display": null,
            "flex": null,
            "flex_flow": null,
            "grid_area": null,
            "grid_auto_columns": null,
            "grid_auto_flow": null,
            "grid_auto_rows": null,
            "grid_column": null,
            "grid_gap": null,
            "grid_row": null,
            "grid_template_areas": null,
            "grid_template_columns": null,
            "grid_template_rows": null,
            "height": null,
            "justify_content": null,
            "justify_items": null,
            "left": null,
            "margin": null,
            "max_height": null,
            "max_width": null,
            "min_height": null,
            "min_width": null,
            "object_fit": null,
            "object_position": null,
            "order": null,
            "overflow": null,
            "overflow_x": null,
            "overflow_y": null,
            "padding": null,
            "right": null,
            "top": null,
            "visibility": null,
            "width": null
          }
        },
        "e668b01774c34f64aeaa320a41264725": {
          "model_module": "@jupyter-widgets/controls",
          "model_name": "ProgressStyleModel",
          "model_module_version": "1.5.0",
          "state": {
            "_model_module": "@jupyter-widgets/controls",
            "_model_module_version": "1.5.0",
            "_model_name": "ProgressStyleModel",
            "_view_count": null,
            "_view_module": "@jupyter-widgets/base",
            "_view_module_version": "1.2.0",
            "_view_name": "StyleView",
            "bar_color": null,
            "description_width": ""
          }
        },
        "423acb0f52a5405ba54060d88f92f8f2": {
          "model_module": "@jupyter-widgets/base",
          "model_name": "LayoutModel",
          "model_module_version": "1.2.0",
          "state": {
            "_model_module": "@jupyter-widgets/base",
            "_model_module_version": "1.2.0",
            "_model_name": "LayoutModel",
            "_view_count": null,
            "_view_module": "@jupyter-widgets/base",
            "_view_module_version": "1.2.0",
            "_view_name": "LayoutView",
            "align_content": null,
            "align_items": null,
            "align_self": null,
            "border": null,
            "bottom": null,
            "display": null,
            "flex": null,
            "flex_flow": null,
            "grid_area": null,
            "grid_auto_columns": null,
            "grid_auto_flow": null,
            "grid_auto_rows": null,
            "grid_column": null,
            "grid_gap": null,
            "grid_row": null,
            "grid_template_areas": null,
            "grid_template_columns": null,
            "grid_template_rows": null,
            "height": null,
            "justify_content": null,
            "justify_items": null,
            "left": null,
            "margin": null,
            "max_height": null,
            "max_width": null,
            "min_height": null,
            "min_width": null,
            "object_fit": null,
            "object_position": null,
            "order": null,
            "overflow": null,
            "overflow_x": null,
            "overflow_y": null,
            "padding": null,
            "right": null,
            "top": null,
            "visibility": null,
            "width": null
          }
        },
        "73991b2caf584ab3b0fa3ed7d93b5f37": {
          "model_module": "@jupyter-widgets/controls",
          "model_name": "DescriptionStyleModel",
          "model_module_version": "1.5.0",
          "state": {
            "_model_module": "@jupyter-widgets/controls",
            "_model_module_version": "1.5.0",
            "_model_name": "DescriptionStyleModel",
            "_view_count": null,
            "_view_module": "@jupyter-widgets/base",
            "_view_module_version": "1.2.0",
            "_view_name": "StyleView",
            "description_width": ""
          }
        },
        "42464d7b122740a68c8b3e1892a218b7": {
          "model_module": "@jupyter-widgets/controls",
          "model_name": "HBoxModel",
          "model_module_version": "1.5.0",
          "state": {
            "_dom_classes": [],
            "_model_module": "@jupyter-widgets/controls",
            "_model_module_version": "1.5.0",
            "_model_name": "HBoxModel",
            "_view_count": null,
            "_view_module": "@jupyter-widgets/controls",
            "_view_module_version": "1.5.0",
            "_view_name": "HBoxView",
            "box_style": "",
            "children": [
              "IPY_MODEL_6594a1cf256e49d6abf4616df088d7dd",
              "IPY_MODEL_8be38f3821ee4cd3b84ba4db865d5636",
              "IPY_MODEL_9934bab8940a492186017812d13e1d55"
            ],
            "layout": "IPY_MODEL_f3012121c1b84988a34af40dba3f04ed"
          }
        },
        "6594a1cf256e49d6abf4616df088d7dd": {
          "model_module": "@jupyter-widgets/controls",
          "model_name": "HTMLModel",
          "model_module_version": "1.5.0",
          "state": {
            "_dom_classes": [],
            "_model_module": "@jupyter-widgets/controls",
            "_model_module_version": "1.5.0",
            "_model_name": "HTMLModel",
            "_view_count": null,
            "_view_module": "@jupyter-widgets/controls",
            "_view_module_version": "1.5.0",
            "_view_name": "HTMLView",
            "description": "",
            "description_tooltip": null,
            "layout": "IPY_MODEL_0cf7eee174254ebfbec58efc0ca2e45c",
            "placeholder": "​",
            "style": "IPY_MODEL_91809e7325d84bcfb707cf68c1fee4eb",
            "value": "Downloading pytorch_model.bin: 100%"
          }
        },
        "8be38f3821ee4cd3b84ba4db865d5636": {
          "model_module": "@jupyter-widgets/controls",
          "model_name": "FloatProgressModel",
          "model_module_version": "1.5.0",
          "state": {
            "_dom_classes": [],
            "_model_module": "@jupyter-widgets/controls",
            "_model_module_version": "1.5.0",
            "_model_name": "FloatProgressModel",
            "_view_count": null,
            "_view_module": "@jupyter-widgets/controls",
            "_view_module_version": "1.5.0",
            "_view_name": "ProgressView",
            "bar_style": "success",
            "description": "",
            "description_tooltip": null,
            "layout": "IPY_MODEL_686a16ba42324c4c99f188a78dbaf7ee",
            "max": 241109629,
            "min": 0,
            "orientation": "horizontal",
            "style": "IPY_MODEL_19c7a98096884ae58ee0b23677f5bca4",
            "value": 241109629
          }
        },
        "9934bab8940a492186017812d13e1d55": {
          "model_module": "@jupyter-widgets/controls",
          "model_name": "HTMLModel",
          "model_module_version": "1.5.0",
          "state": {
            "_dom_classes": [],
            "_model_module": "@jupyter-widgets/controls",
            "_model_module_version": "1.5.0",
            "_model_name": "HTMLModel",
            "_view_count": null,
            "_view_module": "@jupyter-widgets/controls",
            "_view_module_version": "1.5.0",
            "_view_name": "HTMLView",
            "description": "",
            "description_tooltip": null,
            "layout": "IPY_MODEL_a6abda6b1c614d7497ab62725273df15",
            "placeholder": "​",
            "style": "IPY_MODEL_52f507d54db54b69b42a04c70b8d4df2",
            "value": " 241M/241M [00:04&lt;00:00, 58.3MB/s]"
          }
        },
        "f3012121c1b84988a34af40dba3f04ed": {
          "model_module": "@jupyter-widgets/base",
          "model_name": "LayoutModel",
          "model_module_version": "1.2.0",
          "state": {
            "_model_module": "@jupyter-widgets/base",
            "_model_module_version": "1.2.0",
            "_model_name": "LayoutModel",
            "_view_count": null,
            "_view_module": "@jupyter-widgets/base",
            "_view_module_version": "1.2.0",
            "_view_name": "LayoutView",
            "align_content": null,
            "align_items": null,
            "align_self": null,
            "border": null,
            "bottom": null,
            "display": null,
            "flex": null,
            "flex_flow": null,
            "grid_area": null,
            "grid_auto_columns": null,
            "grid_auto_flow": null,
            "grid_auto_rows": null,
            "grid_column": null,
            "grid_gap": null,
            "grid_row": null,
            "grid_template_areas": null,
            "grid_template_columns": null,
            "grid_template_rows": null,
            "height": null,
            "justify_content": null,
            "justify_items": null,
            "left": null,
            "margin": null,
            "max_height": null,
            "max_width": null,
            "min_height": null,
            "min_width": null,
            "object_fit": null,
            "object_position": null,
            "order": null,
            "overflow": null,
            "overflow_x": null,
            "overflow_y": null,
            "padding": null,
            "right": null,
            "top": null,
            "visibility": null,
            "width": null
          }
        },
        "0cf7eee174254ebfbec58efc0ca2e45c": {
          "model_module": "@jupyter-widgets/base",
          "model_name": "LayoutModel",
          "model_module_version": "1.2.0",
          "state": {
            "_model_module": "@jupyter-widgets/base",
            "_model_module_version": "1.2.0",
            "_model_name": "LayoutModel",
            "_view_count": null,
            "_view_module": "@jupyter-widgets/base",
            "_view_module_version": "1.2.0",
            "_view_name": "LayoutView",
            "align_content": null,
            "align_items": null,
            "align_self": null,
            "border": null,
            "bottom": null,
            "display": null,
            "flex": null,
            "flex_flow": null,
            "grid_area": null,
            "grid_auto_columns": null,
            "grid_auto_flow": null,
            "grid_auto_rows": null,
            "grid_column": null,
            "grid_gap": null,
            "grid_row": null,
            "grid_template_areas": null,
            "grid_template_columns": null,
            "grid_template_rows": null,
            "height": null,
            "justify_content": null,
            "justify_items": null,
            "left": null,
            "margin": null,
            "max_height": null,
            "max_width": null,
            "min_height": null,
            "min_width": null,
            "object_fit": null,
            "object_position": null,
            "order": null,
            "overflow": null,
            "overflow_x": null,
            "overflow_y": null,
            "padding": null,
            "right": null,
            "top": null,
            "visibility": null,
            "width": null
          }
        },
        "91809e7325d84bcfb707cf68c1fee4eb": {
          "model_module": "@jupyter-widgets/controls",
          "model_name": "DescriptionStyleModel",
          "model_module_version": "1.5.0",
          "state": {
            "_model_module": "@jupyter-widgets/controls",
            "_model_module_version": "1.5.0",
            "_model_name": "DescriptionStyleModel",
            "_view_count": null,
            "_view_module": "@jupyter-widgets/base",
            "_view_module_version": "1.2.0",
            "_view_name": "StyleView",
            "description_width": ""
          }
        },
        "686a16ba42324c4c99f188a78dbaf7ee": {
          "model_module": "@jupyter-widgets/base",
          "model_name": "LayoutModel",
          "model_module_version": "1.2.0",
          "state": {
            "_model_module": "@jupyter-widgets/base",
            "_model_module_version": "1.2.0",
            "_model_name": "LayoutModel",
            "_view_count": null,
            "_view_module": "@jupyter-widgets/base",
            "_view_module_version": "1.2.0",
            "_view_name": "LayoutView",
            "align_content": null,
            "align_items": null,
            "align_self": null,
            "border": null,
            "bottom": null,
            "display": null,
            "flex": null,
            "flex_flow": null,
            "grid_area": null,
            "grid_auto_columns": null,
            "grid_auto_flow": null,
            "grid_auto_rows": null,
            "grid_column": null,
            "grid_gap": null,
            "grid_row": null,
            "grid_template_areas": null,
            "grid_template_columns": null,
            "grid_template_rows": null,
            "height": null,
            "justify_content": null,
            "justify_items": null,
            "left": null,
            "margin": null,
            "max_height": null,
            "max_width": null,
            "min_height": null,
            "min_width": null,
            "object_fit": null,
            "object_position": null,
            "order": null,
            "overflow": null,
            "overflow_x": null,
            "overflow_y": null,
            "padding": null,
            "right": null,
            "top": null,
            "visibility": null,
            "width": null
          }
        },
        "19c7a98096884ae58ee0b23677f5bca4": {
          "model_module": "@jupyter-widgets/controls",
          "model_name": "ProgressStyleModel",
          "model_module_version": "1.5.0",
          "state": {
            "_model_module": "@jupyter-widgets/controls",
            "_model_module_version": "1.5.0",
            "_model_name": "ProgressStyleModel",
            "_view_count": null,
            "_view_module": "@jupyter-widgets/base",
            "_view_module_version": "1.2.0",
            "_view_name": "StyleView",
            "bar_color": null,
            "description_width": ""
          }
        },
        "a6abda6b1c614d7497ab62725273df15": {
          "model_module": "@jupyter-widgets/base",
          "model_name": "LayoutModel",
          "model_module_version": "1.2.0",
          "state": {
            "_model_module": "@jupyter-widgets/base",
            "_model_module_version": "1.2.0",
            "_model_name": "LayoutModel",
            "_view_count": null,
            "_view_module": "@jupyter-widgets/base",
            "_view_module_version": "1.2.0",
            "_view_name": "LayoutView",
            "align_content": null,
            "align_items": null,
            "align_self": null,
            "border": null,
            "bottom": null,
            "display": null,
            "flex": null,
            "flex_flow": null,
            "grid_area": null,
            "grid_auto_columns": null,
            "grid_auto_flow": null,
            "grid_auto_rows": null,
            "grid_column": null,
            "grid_gap": null,
            "grid_row": null,
            "grid_template_areas": null,
            "grid_template_columns": null,
            "grid_template_rows": null,
            "height": null,
            "justify_content": null,
            "justify_items": null,
            "left": null,
            "margin": null,
            "max_height": null,
            "max_width": null,
            "min_height": null,
            "min_width": null,
            "object_fit": null,
            "object_position": null,
            "order": null,
            "overflow": null,
            "overflow_x": null,
            "overflow_y": null,
            "padding": null,
            "right": null,
            "top": null,
            "visibility": null,
            "width": null
          }
        },
        "52f507d54db54b69b42a04c70b8d4df2": {
          "model_module": "@jupyter-widgets/controls",
          "model_name": "DescriptionStyleModel",
          "model_module_version": "1.5.0",
          "state": {
            "_model_module": "@jupyter-widgets/controls",
            "_model_module_version": "1.5.0",
            "_model_name": "DescriptionStyleModel",
            "_view_count": null,
            "_view_module": "@jupyter-widgets/base",
            "_view_module_version": "1.2.0",
            "_view_name": "StyleView",
            "description_width": ""
          }
        }
      }
    },
    "accelerator": "GPU"
  },
  "nbformat": 4,
  "nbformat_minor": 0
}